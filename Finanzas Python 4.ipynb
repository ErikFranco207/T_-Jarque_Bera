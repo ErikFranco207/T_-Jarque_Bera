{
 "cells": [
  {
   "attachments": {
    "image-3.png": {
     "image/png": "[encoded data removed]"
    },
    "image-5.png": {
     "image/png": "[encoded data removed]"
    },
    "image-6.png": {
     "image/png": "[encoded data removed]"
    }
   },
   "cell_type": "markdown",
   "metadata": {},
   "source": [
    "## Test de normalidad Jarque-Bera\n",
    "Formulamos las hipótesis\n",
    "\n",
    "H0: Los datos son normales\n",
    "\n",
    "H1: Los datos NO son normales\n",
    "\n",
    "Es una prueba para determinar si un conjunto de valores de datos sigue la distribución normal en función de la asimetría y la curtosis de los datos.\n",
    "![image-6.png](attachment:image-6.png)\n",
    "![image-3.png](attachment:image-3.png)\n",
    "Donde n = el número de valores para los datos. S es la asimetría de la muestra (cuánto se alejan los datos de la media) como se define a continuación:\n",
    "\n",
    "K es la curtosis de la muestra (cuán gruesas son las colas de la distribución) como se define a continuación:\n",
    "![image-5.png](attachment:image-5.png)\n",
    "formamos diferentes medidas de la distribución, como:\n",
    "* Media\n",
    "* Varianza \n",
    "* Asimetría \n",
    "* Curtosis\n",
    "\n",
    "## Propiedades de la medida de asimetría:\n",
    "* 1 La asimetría cero implica una distribución asimétrica (la distribución t normal)\n",
    "* 2 La asimetría positiva significa que la distribución tiene una cola derecha larga, es asimétrica a la derecha.\n",
    "* 3 La asimetría negativa significa que la distribución tiene una cola izquierda larga, es asimétrica a la izquierda\n",
    "## Propiedades de la medida de curtosis:\n",
    "* 1 Se dice que una distribución con curtosis=3 es mesocúrtica.\n",
    "* 2 Una distribución con curtosis>3 se dice que es leptocúrtica o de cola gorda.\n",
    "\n",
    "El estadístico de Jarque-Bera se distribuye asintóticamente como una distribución chi cuadrado con dos grados de libertad y puede usarse para probar la hipótesis nula de que los datos pertenecen a una distribución normal. La hipótesis nula es una hipótesis conjunta de que la asimetría y el exceso de curtosis son nulos (asimetría = 0 y curtosis = 3)\n",
    "\n",
    "La prueba de Jarque-Bera utiliza estas dos propiedades (estadísticas) de la\n",
    "distribución normal, a saber:\n",
    "La distribución Normal es simétrica alrededor de su media\n",
    "(sesgo = cero)\n",
    "La distribución Normal tiene curtosis tres, o\n",
    "Exceso de curtosis = cero\n",
    "\n",
    "Sabemos si nuestros datos siguen una distribución normal si la estadística de prueba es cercana a cero y el valor p es mayor que nuestro estándar 0.05. El valor p se relaciona con una hipótesis nula de que los datos siguen una distribución normal. Si la estadística de prueba es grande y el valor p es inferior a 0,05, los datos no siguen una distribución normal."
   ]
  },
  {
   "cell_type": "code",
   "execution_count": 1,
   "metadata": {},
   "outputs": [],
   "source": [
    "import numpy as np\n",
    "import pandas as pd\n",
    "import matplotlib as mpl\n",
    "import scipy\n",
    "import importlib\n",
    "import matplotlib.pyplot as plt\n",
    "from scipy.stats import skew, kurtosis, chi2"
   ]
  },
  {
   "cell_type": "markdown",
   "metadata": {},
   "source": [
    "### Graficamos un histograma"
   ]
  },
  {
   "cell_type": "code",
   "execution_count": 16,
   "metadata": {},
   "outputs": [
    {
     "data": {
      "image/png": "[encoded data removed]",
      "text/plain": [
       "<Figure size 432x288 with 1 Axes>"
      ]
     },
     "metadata": {
      "needs_background": "light"
     },
     "output_type": "display_data"
    },
    {
     "name": "stdout",
     "output_type": "stream",
     "text": [
      "normal\n",
      "Media: 0.0016774445408616811\n",
      "Desviación Estandar: 1.000877744385542\n",
      "Asimetría: 0.006284179239420144\n",
      "Curtosis: -0.004310289004269663\n",
      "VaR 95%: -1.6427967948962667\n",
      "Jarque-Bera:7.3559260897068555\n",
      "Valor P: 0.02527440526658775\n",
      "Es Normal False\n",
      "Contador 0\n",
      "-----\n"
     ]
    }
   ],
   "source": [
    "Normal = True\n",
    "counter = 0\n",
    "while Normal and counter < 5:\n",
    "\n",
    "    x_size =10**6\n",
    "    grados_libertad = 2\n",
    "    # student normal exponencial\n",
    "    variabla_aleatoria = \"normal\"\n",
    "    if variabla_aleatoria == \"normal\":\n",
    "     x = np.random.standard_normal(x_size)\n",
    "     x_str = variabla_aleatoria\n",
    "    elif variabla_aleatoria == \"exponencial\":\n",
    "     x = np.random.standard_exponential(x_size)\n",
    "     x_str = variabla_aleatoria\n",
    "    elif variabla_aleatoria == \"student\":\n",
    "     x = np.random.standard_t(size=x_size, df=grados_libertad)\n",
    "     x_str = x_str = variabla_aleatoria +' (df=' + str(grados_libertad) + ')'\n",
    "    elif variabla_aleatoria == \"chi_cuadrada\":\n",
    "     x = np.random.chisquare(size=x_size, df=grados_libertad)\n",
    "     x_str = x_str = variabla_aleatoria +' (df=' + str(grados_libertad) + ')'\n",
    "    plt.figure()\n",
    "    plt.hist(x, bins=100)\n",
    "    plt.title('Histograma ' + x_str) # Histograma\n",
    "    plt.show()\n",
    "    print(variabla_aleatoria) # Metricas de Riesgo\n",
    "    x_mean = np.mean(x) \n",
    "    print(f\"Media: {x_mean}\") # Media\n",
    "    x_stdv = np.std(x) \n",
    "    print(f\"Desviación Estandar: {x_stdv}\") # Desviación Estandar\n",
    "    x_skew = skew(x) \n",
    "    print(f\"Asimetría: {x_skew}\") # Asimetría\n",
    "    x_kurt = kurtosis(x) # Curtosis \n",
    "    print(f\"Curtosis: {x_kurt}\")\n",
    "    x_VaR = x_VaR = np.percentile(x,5) # Valor en riesgo\n",
    "    print(f\"VaR 95%: {x_VaR }\")\n",
    "    x_CVaR = # Deficit esperado\n",
    "    x_jb = x_size/6*(x_skew**2+1/4*x_kurt**2) # Si la Curtosis es en exceso(tiende a 0) es sin -3\n",
    "    print(f\"Jarque-Bera:{x_jb}\")\n",
    "    Valor_p = Valor_p = 1 - chi2.cdf(x_jb, df= grados_libertad)#Se comprueba la Hipótesis H0\n",
    "    Normal = (Valor_p>0.05) # Es equivalente JB >6\n",
    "    print(f\"Valor P: {Valor_p}\")\n",
    "    print ('Es Normal '+ str(Normal))\n",
    "    # Suponiendo que tenemos una distribución chi2\n",
    "    # cual es la probabilida de tener puntos que esten a la izquierda de la observación \n",
    "    print ('Contador '+ str (counter))\n",
    "    counter +=1\n",
    "    print('-----')"
   ]
  },
  {
   "cell_type": "markdown",
   "metadata": {},
   "source": []
  },
  {
   "cell_type": "code",
   "execution_count": null,
   "metadata": {},
   "outputs": [],
   "source": [
    "\n"
   ]
  }
 ],
 "metadata": {
  "kernelspec": {
   "display_name": "Python 3",
   "language": "python",
   "name": "python3"
  },
  "language_info": {
   "codemirror_mode": {
    "name": "ipython",
    "version": 3
   },
   "file_extension": ".py",
   "mimetype": "text/x-python",
   "name": "python",
   "nbconvert_exporter": "python",
   "pygments_lexer": "ipython3",
   "version": "3.8.5"
  }
 },
 "nbformat": 4,
 "nbformat_minor": 5
}
